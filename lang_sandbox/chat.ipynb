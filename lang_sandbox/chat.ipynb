{
 "cells": [
  {
   "cell_type": "code",
   "execution_count": 1,
   "id": "3f2e16c1",
   "metadata": {},
   "outputs": [],
   "source": [
    "import agent"
   ]
  },
  {
   "cell_type": "code",
   "execution_count": 2,
   "id": "52475059",
   "metadata": {},
   "outputs": [],
   "source": [
    "chatbot = agent.ChatAgent()"
   ]
  },
  {
   "cell_type": "code",
   "execution_count": 3,
   "id": "9fb2600f",
   "metadata": {},
   "outputs": [
    {
     "name": "stdout",
     "output_type": "stream",
     "text": [
      "Hi there! What's your name?\n"
     ]
    }
   ],
   "source": [
    "query = \"Hi!\"\n",
    "response, debug = chatbot.respond(query)\n",
    "print(response)"
   ]
  },
  {
   "cell_type": "code",
   "execution_count": 4,
   "id": "fab209f4",
   "metadata": {},
   "outputs": [],
   "source": [
    "# debug"
   ]
  },
  {
   "cell_type": "code",
   "execution_count": 5,
   "id": "9090963d",
   "metadata": {},
   "outputs": [
    {
     "name": "stdout",
     "output_type": "stream",
     "text": [
      "Nice to meet you, Bob! To get started, are you generally a fan of reading?\n"
     ]
    }
   ],
   "source": [
    "query = \"My name is Bob\"\n",
    "response, debug = chatbot.respond(query)\n",
    "print(response)"
   ]
  },
  {
   "cell_type": "code",
   "execution_count": 7,
   "id": "10ac99c1",
   "metadata": {},
   "outputs": [],
   "source": [
    "# debug"
   ]
  },
  {
   "cell_type": "code",
   "execution_count": 8,
   "id": "f21cb4e3",
   "metadata": {},
   "outputs": [
    {
     "name": "stdout",
     "output_type": "stream",
     "text": [
      "Okay, thanks for being honest, Bob! So, when you *do* read, do you prefer fiction or non-fiction?\n"
     ]
    }
   ],
   "source": [
    "query = \"Not really. I've read about one book in the last year or so.\"\n",
    "response, debug = chatbot.respond(query)\n",
    "print(response)"
   ]
  },
  {
   "cell_type": "code",
   "execution_count": 9,
   "id": "9a638a5e",
   "metadata": {},
   "outputs": [
    {
     "name": "stdout",
     "output_type": "stream",
     "text": [
      "Gotcha. And when you're choosing a fiction book, do you lean more towards fast-paced, action-packed stories, or something more character-driven and thoughtful?\n"
     ]
    }
   ],
   "source": [
    "query = \"I prefer fiction.\"\n",
    "response, debug = chatbot.respond(query)\n",
    "print(response)"
   ]
  },
  {
   "cell_type": "code",
   "execution_count": 10,
   "id": "85a95c4f",
   "metadata": {},
   "outputs": [
    {
     "name": "stdout",
     "output_type": "stream",
     "text": [
      "Okay, that's helpful. Thinking about character-driven stories, do you have a preference for realistic fiction, fantasy, historical fiction, or something else?\n"
     ]
    }
   ],
   "source": [
    "query = \"character-driven and thoughtful\"\n",
    "response, debug = chatbot.respond(query)\n",
    "print(response)"
   ]
  },
  {
   "cell_type": "code",
   "execution_count": 11,
   "id": "f04190a8",
   "metadata": {},
   "outputs": [
    {
     "name": "stdout",
     "output_type": "stream",
     "text": [
      "Surrealistic fiction, interesting! Have you ever read anything by Haruki Murakami?\n"
     ]
    }
   ],
   "source": [
    "query = \"I like surrealistic fiction.\"\n",
    "response, debug = chatbot.respond(query)\n",
    "print(response)"
   ]
  },
  {
   "cell_type": "code",
   "execution_count": 12,
   "id": "fba5295d",
   "metadata": {},
   "outputs": [
    {
     "data": {
      "text/plain": [
       "6"
      ]
     },
     "execution_count": 12,
     "metadata": {},
     "output_type": "execute_result"
    }
   ],
   "source": [
    "chatbot.q_count"
   ]
  },
  {
   "cell_type": "code",
   "execution_count": null,
   "id": "62c0103c",
   "metadata": {},
   "outputs": [],
   "source": []
  }
 ],
 "metadata": {
  "kernelspec": {
   "display_name": "omni-dev",
   "language": "python",
   "name": "python3"
  },
  "language_info": {
   "codemirror_mode": {
    "name": "ipython",
    "version": 3
   },
   "file_extension": ".py",
   "mimetype": "text/x-python",
   "name": "python",
   "nbconvert_exporter": "python",
   "pygments_lexer": "ipython3",
   "version": "3.12.11"
  }
 },
 "nbformat": 4,
 "nbformat_minor": 5
}

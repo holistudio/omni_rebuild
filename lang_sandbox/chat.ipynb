{
 "cells": [
  {
   "cell_type": "code",
   "execution_count": 1,
   "id": "3f2e16c1",
   "metadata": {},
   "outputs": [],
   "source": [
    "import agent"
   ]
  },
  {
   "cell_type": "code",
   "execution_count": 2,
   "id": "f022b449",
   "metadata": {},
   "outputs": [],
   "source": [
    "chatbot = agent.ChatAgent()"
   ]
  },
  {
   "cell_type": "code",
   "execution_count": 3,
   "id": "9fb2600f",
   "metadata": {},
   "outputs": [
    {
     "data": {
      "text/plain": [
       "AIMessage(content=\"Alright, Mr. Bond! Or should I say, 007? ;)\\n\\nSince you're looking for book recommendations, and assuming you're interested in more than just field manuals and martini recipes, tell me a bit about your reading preferences. To give you the best suggestions, I need a little intel.\\n\\nFor example:\\n\\n*   **Generally, what kind of stories do you enjoy?** Are you drawn to action, suspense, romance, historical fiction, fantasy, science fiction, or something else entirely?\\n*   **Are you looking for something similar to your own adventures?** Perhaps more spy thrillers, or something completely different to unwind?\\n*   **Are there any books you've particularly enjoyed (or disliked) recently?** Knowing what you've already read will help me narrow things down.\\n*   **Do you prefer fast-paced reads or something a bit more complex and character-driven?**\\n*   **Are you open to new authors and genres?**\\n\\nDon't worry, this is all confidential. Your reading preferences will be safe with me. ;)\", additional_kwargs={}, response_metadata={'prompt_feedback': {'block_reason': 0, 'safety_ratings': []}, 'finish_reason': 'STOP', 'model_name': 'gemini-2.0-flash', 'safety_ratings': []}, id='run--d724e763-9547-4dd4-846e-68bcc65cce66-0', usage_metadata={'input_tokens': 42, 'output_tokens': 229, 'total_tokens': 271, 'input_token_details': {'cache_read': 0}})"
      ]
     },
     "execution_count": 3,
     "metadata": {},
     "output_type": "execute_result"
    }
   ],
   "source": [
    "chatbot.respond(\"Hi there! I'm James Bond.\")"
   ]
  },
  {
   "cell_type": "code",
   "execution_count": null,
   "id": "fab209f4",
   "metadata": {},
   "outputs": [],
   "source": []
  }
 ],
 "metadata": {
  "kernelspec": {
   "display_name": "omni-dev",
   "language": "python",
   "name": "python3"
  },
  "language_info": {
   "codemirror_mode": {
    "name": "ipython",
    "version": 3
   },
   "file_extension": ".py",
   "mimetype": "text/x-python",
   "name": "python",
   "nbconvert_exporter": "python",
   "pygments_lexer": "ipython3",
   "version": "3.12.11"
  }
 },
 "nbformat": 4,
 "nbformat_minor": 5
}

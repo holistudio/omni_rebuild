{
 "cells": [
  {
   "cell_type": "code",
   "execution_count": 1,
   "id": "3f2e16c1",
   "metadata": {},
   "outputs": [],
   "source": [
    "import agent"
   ]
  },
  {
   "cell_type": "code",
   "execution_count": 2,
   "id": "52475059",
   "metadata": {},
   "outputs": [],
   "source": [
    "chatbot = agent.ChatAgent()"
   ]
  },
  {
   "cell_type": "code",
   "execution_count": 3,
   "id": "9fb2600f",
   "metadata": {},
   "outputs": [
    {
     "name": "stdout",
     "output_type": "stream",
     "text": [
      "Alright, Mr. Bond! Pleasure to meet you. So, you're looking for some reading recommendations? I'm happy to help. To give you the best suggestions, I need a little more information about what you enjoy.\n",
      "\n",
      "Let's start with some general preferences:\n",
      "\n",
      "*   **What kind of stories generally grab your attention?** Are you drawn to action and adventure (perhaps involving espionage?), or do you prefer something more character-driven, like a complex mystery, a gripping thriller, or even a touch of romance?\n",
      "*   **Are there any particular genres you usually steer clear of?**\n",
      "\n",
      "Once I have a general sense of your tastes, we can dive into more specific preferences.\n"
     ]
    }
   ],
   "source": [
    "query = \"Hi there! I'm James Bond.\"\n",
    "response, debug = chatbot.respond(query)\n",
    "print(response)"
   ]
  },
  {
   "cell_type": "code",
   "execution_count": 4,
   "id": "fab209f4",
   "metadata": {},
   "outputs": [
    {
     "data": {
      "text/plain": [
       "[HumanMessage(content=\"Hi there! I'm James Bond.\", additional_kwargs={}, response_metadata={}, id='74fe203a-da76-445b-9dcd-c88f089f01ac'),\n",
       " AIMessage(content=\"Alright, Mr. Bond! Pleasure to meet you. So, you're looking for some reading recommendations? I'm happy to help. To give you the best suggestions, I need a little more information about what you enjoy.\\n\\nLet's start with some general preferences:\\n\\n*   **What kind of stories generally grab your attention?** Are you drawn to action and adventure (perhaps involving espionage?), or do you prefer something more character-driven, like a complex mystery, a gripping thriller, or even a touch of romance?\\n*   **Are there any particular genres you usually steer clear of?**\\n\\nOnce I have a general sense of your tastes, we can dive into more specific preferences.\", additional_kwargs={}, response_metadata={'prompt_feedback': {'block_reason': 0, 'safety_ratings': []}, 'finish_reason': 'STOP', 'model_name': 'gemini-2.0-flash', 'safety_ratings': []}, id='run--aa7b93d8-b041-4181-ae56-0c32309bbc21-0', usage_metadata={'input_tokens': 42, 'output_tokens': 144, 'total_tokens': 186, 'input_token_details': {'cache_read': 0}})]"
      ]
     },
     "execution_count": 4,
     "metadata": {},
     "output_type": "execute_result"
    }
   ],
   "source": [
    "debug"
   ]
  }
 ],
 "metadata": {
  "kernelspec": {
   "display_name": "omni-dev",
   "language": "python",
   "name": "python3"
  },
  "language_info": {
   "codemirror_mode": {
    "name": "ipython",
    "version": 3
   },
   "file_extension": ".py",
   "mimetype": "text/x-python",
   "name": "python",
   "nbconvert_exporter": "python",
   "pygments_lexer": "ipython3",
   "version": "3.12.11"
  }
 },
 "nbformat": 4,
 "nbformat_minor": 5
}

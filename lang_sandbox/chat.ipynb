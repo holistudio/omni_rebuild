{
 "cells": [
  {
   "cell_type": "code",
   "execution_count": null,
   "id": "3f2e16c1",
   "metadata": {},
   "outputs": [],
   "source": [
    "import agent"
   ]
  },
  {
   "cell_type": "code",
   "execution_count": null,
   "id": "52475059",
   "metadata": {},
   "outputs": [],
   "source": [
    "chatbot = agent.ChatAgent()"
   ]
  },
  {
   "cell_type": "code",
   "execution_count": null,
   "id": "9fb2600f",
   "metadata": {},
   "outputs": [],
   "source": [
    "query = \"Hi there! I'm James Bond.\"\n",
    "response, debug = chatbot.respond(query)\n",
    "print(response)"
   ]
  },
  {
   "cell_type": "code",
   "execution_count": null,
   "id": "fab209f4",
   "metadata": {},
   "outputs": [],
   "source": [
    "debug"
   ]
  }
 ],
 "metadata": {
  "kernelspec": {
   "display_name": "omni-dev",
   "language": "python",
   "name": "python3"
  },
  "language_info": {
   "codemirror_mode": {
    "name": "ipython",
    "version": 3
   },
   "file_extension": ".py",
   "mimetype": "text/x-python",
   "name": "python",
   "nbconvert_exporter": "python",
   "pygments_lexer": "ipython3",
   "version": "3.12.11"
  }
 },
 "nbformat": 4,
 "nbformat_minor": 5
}

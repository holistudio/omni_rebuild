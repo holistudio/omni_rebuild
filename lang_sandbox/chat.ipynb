{
 "cells": [
  {
   "cell_type": "code",
   "execution_count": null,
   "id": "3f2e16c1",
   "metadata": {},
   "outputs": [],
   "source": [
    "import agent"
   ]
  },
  {
   "cell_type": "code",
   "execution_count": null,
   "id": "52475059",
   "metadata": {},
   "outputs": [],
   "source": [
    "chatbot = agent.ChatAgent()"
   ]
  },
  {
   "cell_type": "code",
   "execution_count": null,
   "id": "9fb2600f",
   "metadata": {},
   "outputs": [],
   "source": [
    "query = \"Hi!\"\n",
    "response, debug = chatbot.respond(query)\n",
    "print(response)"
   ]
  },
  {
   "cell_type": "code",
   "execution_count": null,
   "id": "fab209f4",
   "metadata": {},
   "outputs": [],
   "source": [
    "# debug"
   ]
  },
  {
   "cell_type": "code",
   "execution_count": null,
   "id": "9090963d",
   "metadata": {},
   "outputs": [],
   "source": [
    "query = \"My name is Bob\"\n",
    "response, debug = chatbot.respond(query)\n",
    "print(response)"
   ]
  },
  {
   "cell_type": "code",
   "execution_count": null,
   "id": "10ac99c1",
   "metadata": {},
   "outputs": [],
   "source": [
    "# debug"
   ]
  },
  {
   "cell_type": "code",
   "execution_count": null,
   "id": "f21cb4e3",
   "metadata": {},
   "outputs": [],
   "source": [
    "query = \"Fiction\"\n",
    "response, debug = chatbot.respond(query)\n",
    "print(response)"
   ]
  },
  {
   "cell_type": "code",
   "execution_count": null,
   "id": "9a638a5e",
   "metadata": {},
   "outputs": [],
   "source": [
    "query = \"Length doesn't matter\"\n",
    "response, debug = chatbot.respond(query)\n",
    "print(response)"
   ]
  },
  {
   "cell_type": "code",
   "execution_count": null,
   "id": "85a95c4f",
   "metadata": {},
   "outputs": [],
   "source": [
    "query = \"character development and atmosphere\"\n",
    "response, debug = chatbot.respond(query)\n",
    "print(response)"
   ]
  },
  {
   "cell_type": "code",
   "execution_count": null,
   "id": "f04190a8",
   "metadata": {},
   "outputs": [],
   "source": [
    "query = \"I like surrealistic fiction.\"\n",
    "response, debug = chatbot.respond(query)\n",
    "print(response)"
   ]
  },
  {
   "cell_type": "code",
   "execution_count": null,
   "id": "fba5295d",
   "metadata": {},
   "outputs": [],
   "source": [
    "query = \"Not really. I like Stanley Kubrick and David Lynch films though!\"\n",
    "response, debug = chatbot.respond(query)\n",
    "print(response)"
   ]
  },
  {
   "cell_type": "code",
   "execution_count": null,
   "id": "42cad411",
   "metadata": {},
   "outputs": [],
   "source": [
    "query = \"Dreamlike and mind-bending haha\"\n",
    "response, debug = chatbot.respond(query)\n",
    "print(response)"
   ]
  },
  {
   "cell_type": "code",
   "execution_count": null,
   "id": "62c0103c",
   "metadata": {},
   "outputs": [],
   "source": []
  }
 ],
 "metadata": {
  "kernelspec": {
   "display_name": "omni-dev",
   "language": "python",
   "name": "python3"
  },
  "language_info": {
   "codemirror_mode": {
    "name": "ipython",
    "version": 3
   },
   "file_extension": ".py",
   "mimetype": "text/x-python",
   "name": "python",
   "nbconvert_exporter": "python",
   "pygments_lexer": "ipython3",
   "version": "3.12.11"
  }
 },
 "nbformat": 4,
 "nbformat_minor": 5
}
